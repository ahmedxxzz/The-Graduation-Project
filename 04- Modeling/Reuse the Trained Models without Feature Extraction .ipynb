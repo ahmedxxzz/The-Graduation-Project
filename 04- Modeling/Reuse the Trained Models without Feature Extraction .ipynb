{
 "cells": [
  {
   "cell_type": "code",
   "execution_count": null,
   "metadata": {},
   "outputs": [],
   "source": [
    "import os\n",
    "import numpy as np\n",
    "from tensorflow import keras\n",
    "from tensorflow.keras.preprocessing import image\n",
    "import tensorflow as tf\n"
   ]
  },
  {
   "cell_type": "code",
   "execution_count": null,
   "metadata": {},
   "outputs": [],
   "source": [
    "\n",
    "def predict_image(model_path, image_path):\n",
    "    # Extract model name from the filename\n",
    "    model_name = os.path.basename(model_path).split('_')[0]\n",
    "    \n",
    "    # Set image size based on model\n",
    "    img_h, img_w = (299, 299) if model_name == 'Xception' else (224, 224)\n",
    "    \n",
    "    # Map model name to preprocessing function\n",
    "    model_config = {\n",
    "        'VGG19': tf.keras.applications.vgg19.preprocess_input,\n",
    "        'ResNet50': tf.keras.applications.resnet50.preprocess_input,\n",
    "        'VGG16': tf.keras.applications.vgg16.preprocess_input,\n",
    "        'MobileNetV2': tf.keras.applications.mobilenet_v2.preprocess_input,\n",
    "        'Xception': tf.keras.applications.xception.preprocess_input,\n",
    "        'EfficientNetB0': tf.keras.applications.efficientnet.preprocess_input,\n",
    "        'DenseNet121': tf.keras.applications.densenet.preprocess_input\n",
    "    }\n",
    "    \n",
    "    preprocess_input = model_config[model_name]\n",
    "    \n",
    "    # Load the entire model directly\n",
    "    model = tf.keras.models.load_model(model_path)\n",
    "    \n",
    "    # Load and preprocess image\n",
    "    img = image.load_img(image_path, target_size=(img_h, img_w))\n",
    "    img_array = image.img_to_array(img)\n",
    "    img_array = np.expand_dims(img_array, axis=0)\n",
    "    img_preprocessed = preprocess_input(img_array)\n",
    "    \n",
    "    # Direct prediction using the full model\n",
    "    prediction = model.predict(img_preprocessed, verbose=0)\n",
    "    \n",
    "    # Format results\n",
    "    img_name = os.path.basename(image_path)\n",
    "    return (model_name, img_name, 'overriding' if prediction[0][0] > 0.5 else 'oblique')\n",
    "\n"
   ]
  },
  {
   "cell_type": "code",
   "execution_count": null,
   "metadata": {},
   "outputs": [],
   "source": [
    "\n",
    "# Paths configuration\n",
    "Base_Folder = 'D:/Learning/University of sadat/Grade 4/Semester 2/06- Graduation Project/Coding/'\n",
    "Models_folder = f\"{Base_Folder}05- Saved Models/\"\n",
    "Images_Folder = f\"{Base_Folder}Test Data/\"\n",
    "\n",
    "# Collect model paths\n",
    "models = [f\"{Models_folder}{file}\" for file in os.listdir(Models_folder) if file.lower().endswith(\".h5\")]\n",
    "\n",
    "# Generate predictions\n",
    "Results = []\n",
    "for img in os.listdir(Images_Folder):\n",
    "    for model in models:\n",
    "        Results.append(predict_image(model, f\"{Images_Folder}{img}\"))\n",
    "\n",
    "# Print results\n",
    "for model_name, img_name, answer in Results:\n",
    "    print(f\"The prediction result of the \\033[91m{model_name}\\033[0m model for image {img_name} is \\033[92m{answer}\\033[0m class\")"
   ]
  }
 ],
 "metadata": {
  "language_info": {
   "name": "python"
  }
 },
 "nbformat": 4,
 "nbformat_minor": 2
}
