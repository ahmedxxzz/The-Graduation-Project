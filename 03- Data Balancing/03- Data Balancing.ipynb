{
 "cells": [
  {
   "cell_type": "code",
   "execution_count": 1,
   "metadata": {},
   "outputs": [],
   "source": [
    "import os\n",
    "import random\n",
    "import numpy as np\n",
    "from PIL import Image\n",
    "from tensorflow.keras.preprocessing.image import ImageDataGenerator"
   ]
  },
  {
   "cell_type": "code",
   "execution_count": 3,
   "metadata": {},
   "outputs": [],
   "source": [
    "\n",
    "def balance_dataset(Oblique_INPUT_FOLDER,Oblique_OUTPUT_FOLDER, Overriding_INPUT_FOLDER, Overriding_OUTPUT_FOLDER, image_size=(224, 224)):\n",
    "    \n",
    "    # Function to load and resize images from a folder\n",
    "    def load_and_process(folder_path):\n",
    "        images = []\n",
    "        for filename in os.listdir(folder_path):\n",
    "            if filename.lower().endswith(('.jpg', '.jpeg', '.png')):\n",
    "                img_path = os.path.join(folder_path, filename)\n",
    "                img = Image.open(img_path).convert('RGB').resize(image_size)\n",
    "                images.append(np.array(img))\n",
    "        return images\n",
    "\n",
    "    # Process Oblique images\n",
    "    oblique_images = load_and_process(Oblique_INPUT_FOLDER)\n",
    "    current_oblique_count = len(oblique_images)\n",
    "\n",
    "    overriding_images = load_and_process(Overriding_INPUT_FOLDER)\n",
    "    current_overriding_count = len(overriding_images)    \n",
    "    print(f'Found : {current_oblique_count} oblique, {current_overriding_count} overriding.')\n",
    "    \n",
    "    needed = abs(current_overriding_count- current_oblique_count)\n",
    "    minimum_type = 0 if current_oblique_count<current_overriding_count else 1\n",
    "    oblique_needed = needed if minimum_type==1 else needed*2\n",
    "    overriding_needed = needed if minimum_type==0 else needed*2\n",
    "    # Generate augmented images if needed\n",
    "    oblique_augmented_images =[]\n",
    "    overriding_augmented_images =[]\n",
    "    if needed > 0:\n",
    "        datagen = ImageDataGenerator(rotation_range=40,shear_range=0.2,zoom_range=0.2,fill_mode='constant')\n",
    "        for _ in range(oblique_needed):\n",
    "            img = random.choice(oblique_images if minimum_type==0 else overriding_images)\n",
    "            img_expanded = np.expand_dims(img, axis=0)\n",
    "            aug_img = datagen.flow(img_expanded, batch_size=1)[0].astype(np.uint8)[0]\n",
    "            oblique_augmented_images.append(aug_img)\n",
    "        oblique_images+= oblique_augmented_images\n",
    "        \n",
    "        for _ in range(overriding_needed):\n",
    "            img = random.choice(overriding_images  if minimum_type==0 else oblique_images)\n",
    "            img_expanded = np.expand_dims(img, axis=0)\n",
    "            aug_img = datagen.flow(img_expanded, batch_size=1)[0].astype(np.uint8)[0]\n",
    "            overriding_augmented_images.append(aug_img)\n",
    "        overriding_images +=overriding_augmented_images\n",
    "        \n",
    "    # Save augmented Oblique images\n",
    "    for idx, img in enumerate(oblique_images):\n",
    "        Image.fromarray(img).save(os.path.join(Oblique_OUTPUT_FOLDER, f'oblique_{idx}.png'))\n",
    "\n",
    "    # Process and save Overriding images\n",
    "    for idx, img in enumerate(overriding_images):\n",
    "        Image.fromarray(img).save(os.path.join(Overriding_OUTPUT_FOLDER, f'overriding_{idx}.png'))\n",
    "\n",
    "    print(f\"Saved {len(oblique_images)} Oblique images to {Oblique_OUTPUT_FOLDER}\")\n",
    "    print(f\"Saved {len(overriding_images)} Overriding images to {Overriding_OUTPUT_FOLDER}\")\n",
    "\n"
   ]
  },
  {
   "cell_type": "code",
   "execution_count": null,
   "metadata": {},
   "outputs": [
    {
     "name": "stdout",
     "output_type": "stream",
     "text": [
      "Found : 1446 oblique, 2843 overriding.\n",
      "Saved 4240 Oblique images to D:/Learning/University of sadat/Grade 4/Semester 2/06- Graduation Project/Coding/Balanced_DataSet/Oblique/\n",
      "Saved 4240 Overriding images to D:/Learning/University of sadat/Grade 4/Semester 2/06- Graduation Project/Coding/Balanced_DataSet/Overriding/\n"
     ]
    }
   ],
   "source": [
    "if __name__ == \"__main__\":\n",
    "    Base_Folder = 'D:/Learning/University of sadat/Grade 4/Semester 2/06- Graduation Project/Coding/00- The DataSet/' \n",
    "    #### # for oblique images\n",
    "    Oblique_INPUT_FOLDER = f'{Base_Folder}Augmented_DataSet/Oblique/'\n",
    "    Oblique_OUTPUT_FOLDER = f'{Base_Folder}Balanced_DataSet/Oblique/'\n",
    "    \n",
    "    #### # for oblique images\n",
    "    Overriding_INPUT_FOLDER = f'{Base_Folder}Augmented_DataSet/Overriding/'\n",
    "    Overriding_OUTPUT_FOLDER = f'{Base_Folder}Balanced_DataSet/Overriding/'\n",
    "    \n",
    "    os.makedirs(Oblique_OUTPUT_FOLDER, exist_ok=True)\n",
    "    os.makedirs(Overriding_OUTPUT_FOLDER, exist_ok=True)\n",
    "    balance_dataset(Oblique_INPUT_FOLDER,Oblique_OUTPUT_FOLDER, Overriding_INPUT_FOLDER, Overriding_OUTPUT_FOLDER)\n"
   ]
  }
 ],
 "metadata": {
  "kernelspec": {
   "display_name": "Ai_Env",
   "language": "python",
   "name": "python3"
  },
  "language_info": {
   "codemirror_mode": {
    "name": "ipython",
    "version": 3
   },
   "file_extension": ".py",
   "mimetype": "text/x-python",
   "name": "python",
   "nbconvert_exporter": "python",
   "pygments_lexer": "ipython3",
   "version": "3.12.4"
  }
 },
 "nbformat": 4,
 "nbformat_minor": 2
}
