{
 "cells": [
  {
   "cell_type": "code",
   "execution_count": 1,
   "metadata": {},
   "outputs": [],
   "source": [
    "import os\n",
    "from tensorflow.keras.preprocessing.image import ImageDataGenerator, load_img, img_to_array\n"
   ]
  },
  {
   "cell_type": "code",
   "execution_count": 3,
   "metadata": {},
   "outputs": [],
   "source": [
    "\n",
    "def augment_images(input_folder, output_folder, num_needed):\n",
    "    \"\"\"\n",
    "    Augments images from the input folder to generate a specified number of images in the output folder.\n",
    "    \n",
    "    Args:\n",
    "        input_folder (str): Path to the directory containing input images.\n",
    "        output_folder (str): Path to save the augmented images.\n",
    "        num_needed (int): Total number of augmented images to generate.\n",
    "    \"\"\"\n",
    "    # Create output directory if it doesn't exist\n",
    "    os.makedirs(output_folder, exist_ok=True)\n",
    "    \n",
    "    # Get list of image paths\n",
    "    image_extensions = ['.jpg', '.jpeg', '.png']\n",
    "    image_paths = [os.path.join(input_folder, f) for f in os.listdir(input_folder)\n",
    "                  if os.path.splitext(f)[1].lower() in image_extensions]\n",
    "    \n",
    "    if not image_paths:\n",
    "        raise ValueError(\"No images found in the input folder.\")\n",
    "    \n",
    "    num_images = len(image_paths)\n",
    "    base = num_needed // num_images \n",
    "    remainder = num_needed % num_images \n",
    "    \n",
    "    # Initialize ImageDataGenerator with augmentation parameters\n",
    "    datagen = ImageDataGenerator(\n",
    "         rotation_range=40,\n",
    "         shear_range=0.2,\n",
    "         zoom_range=0.2,\n",
    "         fill_mode='constant' # to fill the rest of the image with black\n",
    "        )\n",
    "    \n",
    "    for i, img_path in enumerate(image_paths):\n",
    "        # Calculate number of augmentations needed for this image\n",
    "        n = base + 1 if i < remainder else base\n",
    "        \n",
    "        # Load and prepare image\n",
    "        img = load_img(img_path)\n",
    "        x = img_to_array(img)\n",
    "        x = x.reshape((1,) + x.shape)  # Convert to batch of size 1\n",
    "        \n",
    "        # Prepare save parameters\n",
    "        filename = os.path.splitext(os.path.basename(img_path))[0]        \n",
    "        # Create image generator\n",
    "        generator = datagen.flow(\n",
    "            x,\n",
    "            batch_size=1,\n",
    "            save_to_dir=output_folder,\n",
    "            save_prefix=f\"{filename}_aug\",\n",
    "            save_format='png'\n",
    "        )\n",
    "        \n",
    "        # Generate augmented images\n",
    "        for _ in range(n):\n",
    "            next(generator)\n",
    "\n",
    "    print(f\"Successfully generated {num_needed} augmented images in {output_folder}\")\n"
   ]
  },
  {
   "cell_type": "code",
   "execution_count": null,
   "metadata": {},
   "outputs": [
    {
     "name": "stdout",
     "output_type": "stream",
     "text": [
      "Successfully generated 1450 augmented images in D:/Learning/University of sadat/Grade 4/Semester 2/06- Graduation Project/Coding/Augmented_DataSet/Oblique/\n",
      "Successfully generated 2850 augmented images in D:/Learning/University of sadat/Grade 4/Semester 2/06- Graduation Project/Coding/Augmented_DataSet/Overriding/\n"
     ]
    }
   ],
   "source": [
    "if __name__ == \"__main__\":\n",
    "    Base_Folder = 'D:/Learning/University of sadat/Grade 4/Semester 2/06- Graduation Project/Coding/00- The DataSet/' \n",
    "    #### # for oblique images\n",
    "    Oblique_INPUT_FOLDER = f'{Base_Folder}Merged_Segmented_DataSet/Oblique/'\n",
    "    Oblique_OUTPUT_FOLDER = f'{Base_Folder}Augmented_DataSet/Oblique/'\n",
    "    \n",
    "    #### # for oblique images\n",
    "    Overriding_INPUT_FOLDER = f'{Base_Folder}Merged_Segmented_DataSet/Overriding/'\n",
    "    Overriding_OUTPUT_FOLDER = f'{Base_Folder}Augmented_DataSet/Overriding/'\n",
    "    \n",
    "    os.makedirs(Oblique_OUTPUT_FOLDER, exist_ok=True)\n",
    "    os.makedirs(Overriding_OUTPUT_FOLDER, exist_ok=True)\n",
    "    for i in range(0,2):\n",
    "        input_folder = Oblique_INPUT_FOLDER if i==0 else Overriding_INPUT_FOLDER\n",
    "        output_folder = Oblique_OUTPUT_FOLDER if i==0 else Overriding_OUTPUT_FOLDER\n",
    "        augment_images(input_folder, output_folder, 1450 if i==0 else 2850)"
   ]
  }
 ],
 "metadata": {
  "kernelspec": {
   "display_name": "Ai_Env",
   "language": "python",
   "name": "python3"
  },
  "language_info": {
   "codemirror_mode": {
    "name": "ipython",
    "version": 3
   },
   "file_extension": ".py",
   "mimetype": "text/x-python",
   "name": "python",
   "nbconvert_exporter": "python",
   "pygments_lexer": "ipython3",
   "version": "3.12.4"
  }
 },
 "nbformat": 4,
 "nbformat_minor": 2
}
